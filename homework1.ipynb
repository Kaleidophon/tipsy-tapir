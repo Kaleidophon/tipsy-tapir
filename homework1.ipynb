{
 "cells": [
  {
   "cell_type": "markdown",
   "metadata": {
    "collapsed": true
   },
   "source": [
    "# Information retrieval --- Module 1: Evaulation\n",
    "Santosh Kumar Rajamanickam, Dennis Ulmer and Stian Steinbakken\n",
    "\n",
    "Maybe insert a small introduction here? \n"
   ]
  },
  {
   "cell_type": "markdown",
   "metadata": {},
   "source": [
    "## Theoretical part [15pts]\n",
    "### 1 Hypothesis Testing --- The problem of multiple comparisons. \n",
    "How many hypothesis tests, m, does it take to get to (with Type I error for each test = α):\n",
    "P(mth experiment gives significant result | m experiments lacking power to reject H0)?\n",
    "P(at least one significant result | m experiments lacking power to reject H0)?\n",
    "\n"
   ]
  },
  {
   "cell_type": "markdown",
   "metadata": {},
   "source": [
    "Answer:"
   ]
  },
  {
   "cell_type": "markdown",
   "metadata": {},
   "source": [
    "### 2 Bias and unfairness in Interleaving experiments [10 points]\n",
    "Balance interleaving has been shown to be biased in a number of corner cases. An example was given during the lecture with two ranked lists of length 3 being interleaved, and a randomly clicking population of users that resulted in algorithm A winning ⅔ of the time, even though in theory the percentage of wins should be 50% for both algorithms. Can you come up with a situation of two ranked lists of length 3 and a distribution of clicks over them for which Team-draft interleaving is unfair to the better algorithm?\n"
   ]
  },
  {
   "cell_type": "markdown",
   "metadata": {},
   "source": [
    "Answer:"
   ]
  },
  {
   "cell_type": "markdown",
   "metadata": {},
   "source": [
    "## Experimental part [85 pts] \n",
    "Step 1: Simulate Rankings of Relevance for E and P (5 points)\n",
    "In the first step you will generate pairs of rankings of relevance, for the production P and experimental E, respectively, for a hypothetical query q. Assume a 3-graded relevance, i.e. {N, R, HR}. Construct all possible P and E ranking pairs of length 5. This step should give you about.\n",
    "\n",
    "Example:\n",
    "P: {N N N N N}\n",
    "E: {N N N N R}\n",
    "…\n",
    "P: {HR HR HR HR R}\n",
    "E: {HR HR HR HR HR}\n"
   ]
  },
  {
   "cell_type": "code",
   "execution_count": 5,
   "metadata": {},
   "outputs": [
    {
     "name": "stdout",
     "output_type": "stream",
     "text": [
      "([('N', 'N', 'N', 'N', 'N'), ('N', 'N', 'N', 'N', 'R'), ('N', 'N', 'N', 'N', 'HR'), ('N', 'N', 'N', 'R', 'N'), ('N', 'N', 'N', 'R', 'R'), ('N', 'N', 'N', 'R', 'HR'), ('N', 'N', 'N', 'HR', 'N'), ('N', 'N', 'N', 'HR', 'R'), ('N', 'N', 'N', 'HR', 'HR'), ('N', 'N', 'R', 'N', 'N'), ('N', 'N', 'R', 'N', 'R'), ('N', 'N', 'R', 'N', 'HR'), ('N', 'N', 'R', 'R', 'N'), ('N', 'N', 'R', 'R', 'R'), ('N', 'N', 'R', 'R', 'HR'), ('N', 'N', 'R', 'HR', 'N'), ('N', 'N', 'R', 'HR', 'R'), ('N', 'N', 'R', 'HR', 'HR'), ('N', 'N', 'HR', 'N', 'N'), ('N', 'N', 'HR', 'N', 'R'), ('N', 'N', 'HR', 'N', 'HR'), ('N', 'N', 'HR', 'R', 'N'), ('N', 'N', 'HR', 'R', 'R'), ('N', 'N', 'HR', 'R', 'HR'), ('N', 'N', 'HR', 'HR', 'N'), ('N', 'N', 'HR', 'HR', 'R'), ('N', 'N', 'HR', 'HR', 'HR'), ('N', 'R', 'N', 'N', 'N'), ('N', 'R', 'N', 'N', 'R'), ('N', 'R', 'N', 'N', 'HR'), ('N', 'R', 'N', 'R', 'N'), ('N', 'R', 'N', 'R', 'R'), ('N', 'R', 'N', 'R', 'HR'), ('N', 'R', 'N', 'HR', 'N'), ('N', 'R', 'N', 'HR', 'R'), ('N', 'R', 'N', 'HR', 'HR'), ('N', 'R', 'R', 'N', 'N'), ('N', 'R', 'R', 'N', 'R'), ('N', 'R', 'R', 'N', 'HR'), ('N', 'R', 'R', 'R', 'N'), ('N', 'R', 'R', 'R', 'R'), ('N', 'R', 'R', 'R', 'HR'), ('N', 'R', 'R', 'HR', 'N'), ('N', 'R', 'R', 'HR', 'R'), ('N', 'R', 'R', 'HR', 'HR'), ('N', 'R', 'HR', 'N', 'N'), ('N', 'R', 'HR', 'N', 'R'), ('N', 'R', 'HR', 'N', 'HR'), ('N', 'R', 'HR', 'R', 'N'), ('N', 'R', 'HR', 'R', 'R'), ('N', 'R', 'HR', 'R', 'HR'), ('N', 'R', 'HR', 'HR', 'N'), ('N', 'R', 'HR', 'HR', 'R'), ('N', 'R', 'HR', 'HR', 'HR'), ('N', 'HR', 'N', 'N', 'N'), ('N', 'HR', 'N', 'N', 'R'), ('N', 'HR', 'N', 'N', 'HR'), ('N', 'HR', 'N', 'R', 'N'), ('N', 'HR', 'N', 'R', 'R'), ('N', 'HR', 'N', 'R', 'HR'), ('N', 'HR', 'N', 'HR', 'N'), ('N', 'HR', 'N', 'HR', 'R'), ('N', 'HR', 'N', 'HR', 'HR'), ('N', 'HR', 'R', 'N', 'N'), ('N', 'HR', 'R', 'N', 'R'), ('N', 'HR', 'R', 'N', 'HR'), ('N', 'HR', 'R', 'R', 'N'), ('N', 'HR', 'R', 'R', 'R'), ('N', 'HR', 'R', 'R', 'HR'), ('N', 'HR', 'R', 'HR', 'N'), ('N', 'HR', 'R', 'HR', 'R'), ('N', 'HR', 'R', 'HR', 'HR'), ('N', 'HR', 'HR', 'N', 'N'), ('N', 'HR', 'HR', 'N', 'R'), ('N', 'HR', 'HR', 'N', 'HR'), ('N', 'HR', 'HR', 'R', 'N'), ('N', 'HR', 'HR', 'R', 'R'), ('N', 'HR', 'HR', 'R', 'HR'), ('N', 'HR', 'HR', 'HR', 'N'), ('N', 'HR', 'HR', 'HR', 'R'), ('N', 'HR', 'HR', 'HR', 'HR'), ('R', 'N', 'N', 'N', 'N'), ('R', 'N', 'N', 'N', 'R'), ('R', 'N', 'N', 'N', 'HR'), ('R', 'N', 'N', 'R', 'N'), ('R', 'N', 'N', 'R', 'R'), ('R', 'N', 'N', 'R', 'HR'), ('R', 'N', 'N', 'HR', 'N'), ('R', 'N', 'N', 'HR', 'R'), ('R', 'N', 'N', 'HR', 'HR'), ('R', 'N', 'R', 'N', 'N'), ('R', 'N', 'R', 'N', 'R'), ('R', 'N', 'R', 'N', 'HR'), ('R', 'N', 'R', 'R', 'N'), ('R', 'N', 'R', 'R', 'R'), ('R', 'N', 'R', 'R', 'HR'), ('R', 'N', 'R', 'HR', 'N'), ('R', 'N', 'R', 'HR', 'R'), ('R', 'N', 'R', 'HR', 'HR'), ('R', 'N', 'HR', 'N', 'N'), ('R', 'N', 'HR', 'N', 'R'), ('R', 'N', 'HR', 'N', 'HR'), ('R', 'N', 'HR', 'R', 'N'), ('R', 'N', 'HR', 'R', 'R'), ('R', 'N', 'HR', 'R', 'HR'), ('R', 'N', 'HR', 'HR', 'N'), ('R', 'N', 'HR', 'HR', 'R'), ('R', 'N', 'HR', 'HR', 'HR'), ('R', 'R', 'N', 'N', 'N'), ('R', 'R', 'N', 'N', 'R'), ('R', 'R', 'N', 'N', 'HR'), ('R', 'R', 'N', 'R', 'N'), ('R', 'R', 'N', 'R', 'R'), ('R', 'R', 'N', 'R', 'HR'), ('R', 'R', 'N', 'HR', 'N'), ('R', 'R', 'N', 'HR', 'R'), ('R', 'R', 'N', 'HR', 'HR'), ('R', 'R', 'R', 'N', 'N'), ('R', 'R', 'R', 'N', 'R'), ('R', 'R', 'R', 'N', 'HR'), ('R', 'R', 'R', 'R', 'N'), ('R', 'R', 'R', 'R', 'R'), ('R', 'R', 'R', 'R', 'HR'), ('R', 'R', 'R', 'HR', 'N'), ('R', 'R', 'R', 'HR', 'R'), ('R', 'R', 'R', 'HR', 'HR'), ('R', 'R', 'HR', 'N', 'N'), ('R', 'R', 'HR', 'N', 'R'), ('R', 'R', 'HR', 'N', 'HR'), ('R', 'R', 'HR', 'R', 'N'), ('R', 'R', 'HR', 'R', 'R'), ('R', 'R', 'HR', 'R', 'HR'), ('R', 'R', 'HR', 'HR', 'N'), ('R', 'R', 'HR', 'HR', 'R'), ('R', 'R', 'HR', 'HR', 'HR'), ('R', 'HR', 'N', 'N', 'N'), ('R', 'HR', 'N', 'N', 'R'), ('R', 'HR', 'N', 'N', 'HR'), ('R', 'HR', 'N', 'R', 'N'), ('R', 'HR', 'N', 'R', 'R'), ('R', 'HR', 'N', 'R', 'HR'), ('R', 'HR', 'N', 'HR', 'N'), ('R', 'HR', 'N', 'HR', 'R'), ('R', 'HR', 'N', 'HR', 'HR'), ('R', 'HR', 'R', 'N', 'N'), ('R', 'HR', 'R', 'N', 'R'), ('R', 'HR', 'R', 'N', 'HR'), ('R', 'HR', 'R', 'R', 'N'), ('R', 'HR', 'R', 'R', 'R'), ('R', 'HR', 'R', 'R', 'HR'), ('R', 'HR', 'R', 'HR', 'N'), ('R', 'HR', 'R', 'HR', 'R'), ('R', 'HR', 'R', 'HR', 'HR'), ('R', 'HR', 'HR', 'N', 'N'), ('R', 'HR', 'HR', 'N', 'R'), ('R', 'HR', 'HR', 'N', 'HR'), ('R', 'HR', 'HR', 'R', 'N'), ('R', 'HR', 'HR', 'R', 'R'), ('R', 'HR', 'HR', 'R', 'HR'), ('R', 'HR', 'HR', 'HR', 'N'), ('R', 'HR', 'HR', 'HR', 'R'), ('R', 'HR', 'HR', 'HR', 'HR'), ('HR', 'N', 'N', 'N', 'N'), ('HR', 'N', 'N', 'N', 'R'), ('HR', 'N', 'N', 'N', 'HR'), ('HR', 'N', 'N', 'R', 'N'), ('HR', 'N', 'N', 'R', 'R'), ('HR', 'N', 'N', 'R', 'HR'), ('HR', 'N', 'N', 'HR', 'N'), ('HR', 'N', 'N', 'HR', 'R'), ('HR', 'N', 'N', 'HR', 'HR'), ('HR', 'N', 'R', 'N', 'N'), ('HR', 'N', 'R', 'N', 'R'), ('HR', 'N', 'R', 'N', 'HR'), ('HR', 'N', 'R', 'R', 'N'), ('HR', 'N', 'R', 'R', 'R'), ('HR', 'N', 'R', 'R', 'HR'), ('HR', 'N', 'R', 'HR', 'N'), ('HR', 'N', 'R', 'HR', 'R'), ('HR', 'N', 'R', 'HR', 'HR'), ('HR', 'N', 'HR', 'N', 'N'), ('HR', 'N', 'HR', 'N', 'R'), ('HR', 'N', 'HR', 'N', 'HR'), ('HR', 'N', 'HR', 'R', 'N'), ('HR', 'N', 'HR', 'R', 'R'), ('HR', 'N', 'HR', 'R', 'HR'), ('HR', 'N', 'HR', 'HR', 'N'), ('HR', 'N', 'HR', 'HR', 'R'), ('HR', 'N', 'HR', 'HR', 'HR'), ('HR', 'R', 'N', 'N', 'N'), ('HR', 'R', 'N', 'N', 'R'), ('HR', 'R', 'N', 'N', 'HR'), ('HR', 'R', 'N', 'R', 'N'), ('HR', 'R', 'N', 'R', 'R'), ('HR', 'R', 'N', 'R', 'HR'), ('HR', 'R', 'N', 'HR', 'N'), ('HR', 'R', 'N', 'HR', 'R'), ('HR', 'R', 'N', 'HR', 'HR'), ('HR', 'R', 'R', 'N', 'N'), ('HR', 'R', 'R', 'N', 'R'), ('HR', 'R', 'R', 'N', 'HR'), ('HR', 'R', 'R', 'R', 'N'), ('HR', 'R', 'R', 'R', 'R'), ('HR', 'R', 'R', 'R', 'HR'), ('HR', 'R', 'R', 'HR', 'N'), ('HR', 'R', 'R', 'HR', 'R'), ('HR', 'R', 'R', 'HR', 'HR'), ('HR', 'R', 'HR', 'N', 'N'), ('HR', 'R', 'HR', 'N', 'R'), ('HR', 'R', 'HR', 'N', 'HR'), ('HR', 'R', 'HR', 'R', 'N'), ('HR', 'R', 'HR', 'R', 'R'), ('HR', 'R', 'HR', 'R', 'HR'), ('HR', 'R', 'HR', 'HR', 'N'), ('HR', 'R', 'HR', 'HR', 'R'), ('HR', 'R', 'HR', 'HR', 'HR'), ('HR', 'HR', 'N', 'N', 'N'), ('HR', 'HR', 'N', 'N', 'R'), ('HR', 'HR', 'N', 'N', 'HR'), ('HR', 'HR', 'N', 'R', 'N'), ('HR', 'HR', 'N', 'R', 'R'), ('HR', 'HR', 'N', 'R', 'HR'), ('HR', 'HR', 'N', 'HR', 'N'), ('HR', 'HR', 'N', 'HR', 'R'), ('HR', 'HR', 'N', 'HR', 'HR'), ('HR', 'HR', 'R', 'N', 'N'), ('HR', 'HR', 'R', 'N', 'R'), ('HR', 'HR', 'R', 'N', 'HR'), ('HR', 'HR', 'R', 'R', 'N'), ('HR', 'HR', 'R', 'R', 'R'), ('HR', 'HR', 'R', 'R', 'HR'), ('HR', 'HR', 'R', 'HR', 'N'), ('HR', 'HR', 'R', 'HR', 'R'), ('HR', 'HR', 'R', 'HR', 'HR'), ('HR', 'HR', 'HR', 'N', 'N'), ('HR', 'HR', 'HR', 'N', 'R'), ('HR', 'HR', 'HR', 'N', 'HR'), ('HR', 'HR', 'HR', 'R', 'N'), ('HR', 'HR', 'HR', 'R', 'R'), ('HR', 'HR', 'HR', 'R', 'HR'), ('HR', 'HR', 'HR', 'HR', 'N'), ('HR', 'HR', 'HR', 'HR', 'R'), ('HR', 'HR', 'HR', 'HR', 'HR')], [('N', 'N', 'N', 'N', 'N'), ('N', 'N', 'N', 'N', 'R'), ('N', 'N', 'N', 'N', 'HR'), ('N', 'N', 'N', 'R', 'N'), ('N', 'N', 'N', 'R', 'R'), ('N', 'N', 'N', 'R', 'HR'), ('N', 'N', 'N', 'HR', 'N'), ('N', 'N', 'N', 'HR', 'R'), ('N', 'N', 'N', 'HR', 'HR'), ('N', 'N', 'R', 'N', 'N'), ('N', 'N', 'R', 'N', 'R'), ('N', 'N', 'R', 'N', 'HR'), ('N', 'N', 'R', 'R', 'N'), ('N', 'N', 'R', 'R', 'R'), ('N', 'N', 'R', 'R', 'HR'), ('N', 'N', 'R', 'HR', 'N'), ('N', 'N', 'R', 'HR', 'R'), ('N', 'N', 'R', 'HR', 'HR'), ('N', 'N', 'HR', 'N', 'N'), ('N', 'N', 'HR', 'N', 'R'), ('N', 'N', 'HR', 'N', 'HR'), ('N', 'N', 'HR', 'R', 'N'), ('N', 'N', 'HR', 'R', 'R'), ('N', 'N', 'HR', 'R', 'HR'), ('N', 'N', 'HR', 'HR', 'N'), ('N', 'N', 'HR', 'HR', 'R'), ('N', 'N', 'HR', 'HR', 'HR'), ('N', 'R', 'N', 'N', 'N'), ('N', 'R', 'N', 'N', 'R'), ('N', 'R', 'N', 'N', 'HR'), ('N', 'R', 'N', 'R', 'N'), ('N', 'R', 'N', 'R', 'R'), ('N', 'R', 'N', 'R', 'HR'), ('N', 'R', 'N', 'HR', 'N'), ('N', 'R', 'N', 'HR', 'R'), ('N', 'R', 'N', 'HR', 'HR'), ('N', 'R', 'R', 'N', 'N'), ('N', 'R', 'R', 'N', 'R'), ('N', 'R', 'R', 'N', 'HR'), ('N', 'R', 'R', 'R', 'N'), ('N', 'R', 'R', 'R', 'R'), ('N', 'R', 'R', 'R', 'HR'), ('N', 'R', 'R', 'HR', 'N'), ('N', 'R', 'R', 'HR', 'R'), ('N', 'R', 'R', 'HR', 'HR'), ('N', 'R', 'HR', 'N', 'N'), ('N', 'R', 'HR', 'N', 'R'), ('N', 'R', 'HR', 'N', 'HR'), ('N', 'R', 'HR', 'R', 'N'), ('N', 'R', 'HR', 'R', 'R'), ('N', 'R', 'HR', 'R', 'HR'), ('N', 'R', 'HR', 'HR', 'N'), ('N', 'R', 'HR', 'HR', 'R'), ('N', 'R', 'HR', 'HR', 'HR'), ('N', 'HR', 'N', 'N', 'N'), ('N', 'HR', 'N', 'N', 'R'), ('N', 'HR', 'N', 'N', 'HR'), ('N', 'HR', 'N', 'R', 'N'), ('N', 'HR', 'N', 'R', 'R'), ('N', 'HR', 'N', 'R', 'HR'), ('N', 'HR', 'N', 'HR', 'N'), ('N', 'HR', 'N', 'HR', 'R'), ('N', 'HR', 'N', 'HR', 'HR'), ('N', 'HR', 'R', 'N', 'N'), ('N', 'HR', 'R', 'N', 'R'), ('N', 'HR', 'R', 'N', 'HR'), ('N', 'HR', 'R', 'R', 'N'), ('N', 'HR', 'R', 'R', 'R'), ('N', 'HR', 'R', 'R', 'HR'), ('N', 'HR', 'R', 'HR', 'N'), ('N', 'HR', 'R', 'HR', 'R'), ('N', 'HR', 'R', 'HR', 'HR'), ('N', 'HR', 'HR', 'N', 'N'), ('N', 'HR', 'HR', 'N', 'R'), ('N', 'HR', 'HR', 'N', 'HR'), ('N', 'HR', 'HR', 'R', 'N'), ('N', 'HR', 'HR', 'R', 'R'), ('N', 'HR', 'HR', 'R', 'HR'), ('N', 'HR', 'HR', 'HR', 'N'), ('N', 'HR', 'HR', 'HR', 'R'), ('N', 'HR', 'HR', 'HR', 'HR'), ('R', 'N', 'N', 'N', 'N'), ('R', 'N', 'N', 'N', 'R'), ('R', 'N', 'N', 'N', 'HR'), ('R', 'N', 'N', 'R', 'N'), ('R', 'N', 'N', 'R', 'R'), ('R', 'N', 'N', 'R', 'HR'), ('R', 'N', 'N', 'HR', 'N'), ('R', 'N', 'N', 'HR', 'R'), ('R', 'N', 'N', 'HR', 'HR'), ('R', 'N', 'R', 'N', 'N'), ('R', 'N', 'R', 'N', 'R'), ('R', 'N', 'R', 'N', 'HR'), ('R', 'N', 'R', 'R', 'N'), ('R', 'N', 'R', 'R', 'R'), ('R', 'N', 'R', 'R', 'HR'), ('R', 'N', 'R', 'HR', 'N'), ('R', 'N', 'R', 'HR', 'R'), ('R', 'N', 'R', 'HR', 'HR'), ('R', 'N', 'HR', 'N', 'N'), ('R', 'N', 'HR', 'N', 'R'), ('R', 'N', 'HR', 'N', 'HR'), ('R', 'N', 'HR', 'R', 'N'), ('R', 'N', 'HR', 'R', 'R'), ('R', 'N', 'HR', 'R', 'HR'), ('R', 'N', 'HR', 'HR', 'N'), ('R', 'N', 'HR', 'HR', 'R'), ('R', 'N', 'HR', 'HR', 'HR'), ('R', 'R', 'N', 'N', 'N'), ('R', 'R', 'N', 'N', 'R'), ('R', 'R', 'N', 'N', 'HR'), ('R', 'R', 'N', 'R', 'N'), ('R', 'R', 'N', 'R', 'R'), ('R', 'R', 'N', 'R', 'HR'), ('R', 'R', 'N', 'HR', 'N'), ('R', 'R', 'N', 'HR', 'R'), ('R', 'R', 'N', 'HR', 'HR'), ('R', 'R', 'R', 'N', 'N'), ('R', 'R', 'R', 'N', 'R'), ('R', 'R', 'R', 'N', 'HR'), ('R', 'R', 'R', 'R', 'N'), ('R', 'R', 'R', 'R', 'R'), ('R', 'R', 'R', 'R', 'HR'), ('R', 'R', 'R', 'HR', 'N'), ('R', 'R', 'R', 'HR', 'R'), ('R', 'R', 'R', 'HR', 'HR'), ('R', 'R', 'HR', 'N', 'N'), ('R', 'R', 'HR', 'N', 'R'), ('R', 'R', 'HR', 'N', 'HR'), ('R', 'R', 'HR', 'R', 'N'), ('R', 'R', 'HR', 'R', 'R'), ('R', 'R', 'HR', 'R', 'HR'), ('R', 'R', 'HR', 'HR', 'N'), ('R', 'R', 'HR', 'HR', 'R'), ('R', 'R', 'HR', 'HR', 'HR'), ('R', 'HR', 'N', 'N', 'N'), ('R', 'HR', 'N', 'N', 'R'), ('R', 'HR', 'N', 'N', 'HR'), ('R', 'HR', 'N', 'R', 'N'), ('R', 'HR', 'N', 'R', 'R'), ('R', 'HR', 'N', 'R', 'HR'), ('R', 'HR', 'N', 'HR', 'N'), ('R', 'HR', 'N', 'HR', 'R'), ('R', 'HR', 'N', 'HR', 'HR'), ('R', 'HR', 'R', 'N', 'N'), ('R', 'HR', 'R', 'N', 'R'), ('R', 'HR', 'R', 'N', 'HR'), ('R', 'HR', 'R', 'R', 'N'), ('R', 'HR', 'R', 'R', 'R'), ('R', 'HR', 'R', 'R', 'HR'), ('R', 'HR', 'R', 'HR', 'N'), ('R', 'HR', 'R', 'HR', 'R'), ('R', 'HR', 'R', 'HR', 'HR'), ('R', 'HR', 'HR', 'N', 'N'), ('R', 'HR', 'HR', 'N', 'R'), ('R', 'HR', 'HR', 'N', 'HR'), ('R', 'HR', 'HR', 'R', 'N'), ('R', 'HR', 'HR', 'R', 'R'), ('R', 'HR', 'HR', 'R', 'HR'), ('R', 'HR', 'HR', 'HR', 'N'), ('R', 'HR', 'HR', 'HR', 'R'), ('R', 'HR', 'HR', 'HR', 'HR'), ('HR', 'N', 'N', 'N', 'N'), ('HR', 'N', 'N', 'N', 'R'), ('HR', 'N', 'N', 'N', 'HR'), ('HR', 'N', 'N', 'R', 'N'), ('HR', 'N', 'N', 'R', 'R'), ('HR', 'N', 'N', 'R', 'HR'), ('HR', 'N', 'N', 'HR', 'N'), ('HR', 'N', 'N', 'HR', 'R'), ('HR', 'N', 'N', 'HR', 'HR'), ('HR', 'N', 'R', 'N', 'N'), ('HR', 'N', 'R', 'N', 'R'), ('HR', 'N', 'R', 'N', 'HR'), ('HR', 'N', 'R', 'R', 'N'), ('HR', 'N', 'R', 'R', 'R'), ('HR', 'N', 'R', 'R', 'HR'), ('HR', 'N', 'R', 'HR', 'N'), ('HR', 'N', 'R', 'HR', 'R'), ('HR', 'N', 'R', 'HR', 'HR'), ('HR', 'N', 'HR', 'N', 'N'), ('HR', 'N', 'HR', 'N', 'R'), ('HR', 'N', 'HR', 'N', 'HR'), ('HR', 'N', 'HR', 'R', 'N'), ('HR', 'N', 'HR', 'R', 'R'), ('HR', 'N', 'HR', 'R', 'HR'), ('HR', 'N', 'HR', 'HR', 'N'), ('HR', 'N', 'HR', 'HR', 'R'), ('HR', 'N', 'HR', 'HR', 'HR'), ('HR', 'R', 'N', 'N', 'N'), ('HR', 'R', 'N', 'N', 'R'), ('HR', 'R', 'N', 'N', 'HR'), ('HR', 'R', 'N', 'R', 'N'), ('HR', 'R', 'N', 'R', 'R'), ('HR', 'R', 'N', 'R', 'HR'), ('HR', 'R', 'N', 'HR', 'N'), ('HR', 'R', 'N', 'HR', 'R'), ('HR', 'R', 'N', 'HR', 'HR'), ('HR', 'R', 'R', 'N', 'N'), ('HR', 'R', 'R', 'N', 'R'), ('HR', 'R', 'R', 'N', 'HR'), ('HR', 'R', 'R', 'R', 'N'), ('HR', 'R', 'R', 'R', 'R'), ('HR', 'R', 'R', 'R', 'HR'), ('HR', 'R', 'R', 'HR', 'N'), ('HR', 'R', 'R', 'HR', 'R'), ('HR', 'R', 'R', 'HR', 'HR'), ('HR', 'R', 'HR', 'N', 'N'), ('HR', 'R', 'HR', 'N', 'R'), ('HR', 'R', 'HR', 'N', 'HR'), ('HR', 'R', 'HR', 'R', 'N'), ('HR', 'R', 'HR', 'R', 'R'), ('HR', 'R', 'HR', 'R', 'HR'), ('HR', 'R', 'HR', 'HR', 'N'), ('HR', 'R', 'HR', 'HR', 'R'), ('HR', 'R', 'HR', 'HR', 'HR'), ('HR', 'HR', 'N', 'N', 'N'), ('HR', 'HR', 'N', 'N', 'R'), ('HR', 'HR', 'N', 'N', 'HR'), ('HR', 'HR', 'N', 'R', 'N'), ('HR', 'HR', 'N', 'R', 'R'), ('HR', 'HR', 'N', 'R', 'HR'), ('HR', 'HR', 'N', 'HR', 'N'), ('HR', 'HR', 'N', 'HR', 'R'), ('HR', 'HR', 'N', 'HR', 'HR'), ('HR', 'HR', 'R', 'N', 'N'), ('HR', 'HR', 'R', 'N', 'R'), ('HR', 'HR', 'R', 'N', 'HR'), ('HR', 'HR', 'R', 'R', 'N'), ('HR', 'HR', 'R', 'R', 'R'), ('HR', 'HR', 'R', 'R', 'HR'), ('HR', 'HR', 'R', 'HR', 'N'), ('HR', 'HR', 'R', 'HR', 'R'), ('HR', 'HR', 'R', 'HR', 'HR'), ('HR', 'HR', 'HR', 'N', 'N'), ('HR', 'HR', 'HR', 'N', 'R'), ('HR', 'HR', 'HR', 'N', 'HR'), ('HR', 'HR', 'HR', 'R', 'N'), ('HR', 'HR', 'HR', 'R', 'R'), ('HR', 'HR', 'HR', 'R', 'HR'), ('HR', 'HR', 'HR', 'HR', 'N'), ('HR', 'HR', 'HR', 'HR', 'R'), ('HR', 'HR', 'HR', 'HR', 'HR')])\n"
     ]
    },
    {
     "ename": "NameError",
     "evalue": "name 'ranking_a' is not defined",
     "output_type": "error",
     "traceback": [
      "\u001b[0;31m---------------------------------------------------------------------------\u001b[0m",
      "\u001b[0;31mNameError\u001b[0m                                 Traceback (most recent call last)",
      "\u001b[0;32m<ipython-input-5-3285852757aa>\u001b[0m in \u001b[0;36m<module>\u001b[0;34m()\u001b[0m\n\u001b[1;32m     13\u001b[0m \u001b[0;32mfor\u001b[0m \u001b[0mranking_pair\u001b[0m \u001b[0;32min\u001b[0m \u001b[0mlist\u001b[0m\u001b[0;34m(\u001b[0m\u001b[0mproduct\u001b[0m\u001b[0;34m(\u001b[0m\u001b[0;34m(\u001b[0m\u001b[0mlist\u001b[0m\u001b[0;34m(\u001b[0m\u001b[0mproduct\u001b[0m\u001b[0;34m(\u001b[0m\u001b[0mRANKINGS\u001b[0m\u001b[0;34m,\u001b[0m \u001b[0mrepeat\u001b[0m\u001b[0;34m=\u001b[0m\u001b[0;36m5\u001b[0m\u001b[0;34m)\u001b[0m\u001b[0;34m)\u001b[0m\u001b[0;34m,\u001b[0m \u001b[0mlist\u001b[0m\u001b[0;34m(\u001b[0m\u001b[0mproduct\u001b[0m\u001b[0;34m(\u001b[0m\u001b[0mRANKINGS\u001b[0m\u001b[0;34m,\u001b[0m \u001b[0mrepeat\u001b[0m\u001b[0;34m=\u001b[0m\u001b[0;36m5\u001b[0m\u001b[0;34m)\u001b[0m\u001b[0;34m)\u001b[0m\u001b[0;34m)\u001b[0m\u001b[0;34m,\u001b[0m \u001b[0mrepeat\u001b[0m\u001b[0;34m=\u001b[0m\u001b[0;36m2\u001b[0m\u001b[0;34m)\u001b[0m\u001b[0;34m)\u001b[0m\u001b[0;34m:\u001b[0m\u001b[0;34m\u001b[0m\u001b[0m\n\u001b[1;32m     14\u001b[0m     \u001b[0mprint\u001b[0m\u001b[0;34m(\u001b[0m\u001b[0mranking_pair\u001b[0m\u001b[0;34m)\u001b[0m\u001b[0;34m\u001b[0m\u001b[0m\n\u001b[0;32m---> 15\u001b[0;31m     \u001b[0msimulations\u001b[0m\u001b[0;34m.\u001b[0m\u001b[0mappend\u001b[0m\u001b[0;34m(\u001b[0m\u001b[0mRankingPair\u001b[0m\u001b[0;34m(\u001b[0m\u001b[0mE\u001b[0m\u001b[0;34m=\u001b[0m\u001b[0mranking_a\u001b[0m\u001b[0;34m,\u001b[0m \u001b[0mP\u001b[0m\u001b[0;34m=\u001b[0m\u001b[0mranking_b\u001b[0m\u001b[0;34m)\u001b[0m\u001b[0;34m)\u001b[0m\u001b[0;34m\u001b[0m\u001b[0m\n\u001b[0m\u001b[1;32m     16\u001b[0m \u001b[0;34m\u001b[0m\u001b[0m\n\u001b[1;32m     17\u001b[0m \u001b[0mprint\u001b[0m\u001b[0;34m(\u001b[0m\u001b[0;34m\"First 10 simulations:\\n\"\u001b[0m\u001b[0;34m)\u001b[0m\u001b[0;34m\u001b[0m\u001b[0m\n",
      "\u001b[0;31mNameError\u001b[0m: name 'ranking_a' is not defined"
     ]
    }
   ],
   "source": [
    "# Step 1 code\n",
    "\n",
    "from itertools import product\n",
    "from collections import namedtuple\n",
    "\n",
    "RankingPair = namedtuple(\"RankingPair\", [\"E\", \"P\"])\n",
    "\n",
    "RANKINGS = (\"N\", \"R\", \"HR\")\n",
    "\n",
    "simulations = []\n",
    "\n",
    "# Create all possible rankings of length 5\n",
    "for ranking_pair in list(product((list(product(RANKINGS, repeat=5)), list(product(RANKINGS, repeat=5))), repeat=2)):\n",
    "    print(ranking_pair)\n",
    "    simulations.append(RankingPair(E=ranking_a, P=ranking_b))\n",
    "\n",
    "print(\"First 10 simulations:\\n\")\n",
    "for ranking_pair in simulations[:10]:\n",
    "    print(\"P: {}, E: {}\".format(*ranking_pair))\n",
    "    \n",
    "print(\"\\nLast 10 simulations:\\n\")\n",
    "for P_ranking, E_ranking in simulations[-10:]:\n",
    "    print(\"P: {}, E: {}\".format(*ranking_pair))\n"
   ]
  },
  {
   "cell_type": "code",
   "execution_count": null,
   "metadata": {
    "collapsed": true
   },
   "outputs": [],
   "source": []
  },
  {
   "cell_type": "code",
   "execution_count": null,
   "metadata": {
    "collapsed": true
   },
   "outputs": [],
   "source": []
  }
 ],
 "metadata": {
  "kernelspec": {
   "display_name": "Python 3",
   "language": "python",
   "name": "python3"
  },
  "language_info": {
   "codemirror_mode": {
    "name": "ipython",
    "version": 3
   },
   "file_extension": ".py",
   "mimetype": "text/x-python",
   "name": "python",
   "nbconvert_exporter": "python",
   "pygments_lexer": "ipython3",
   "version": "3.6.1"
  }
 },
 "nbformat": 4,
 "nbformat_minor": 2
}
