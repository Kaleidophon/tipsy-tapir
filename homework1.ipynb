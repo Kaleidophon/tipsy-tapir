{
 "cells": [
  {
   "cell_type": "markdown",
   "metadata": {
    "collapsed": true
   },
   "source": [
    "# Information retrieval --- Module 1: Evaulation\n",
    "Santosh Kumar Rajamanickam, Dennis Ulmer and Stian Steinbakken\n",
    "\n",
    "Maybe insert a small introduction here? \n"
   ]
  },
  {
   "cell_type": "markdown",
   "metadata": {},
   "source": [
    "## Theoretical part [15pts]\n",
    "### 1 Hypothesis Testing --- The problem of multiple comparisons. \n",
    "How many hypothesis tests, m, does it take to get to (with Type I error for each test = α):\n",
    "P(mth experiment gives significant result | m experiments lacking power to reject H0)?\n",
    "P(at least one significant result | m experiments lacking power to reject H0)?\n",
    "\n"
   ]
  },
  {
   "cell_type": "markdown",
   "metadata": {},
   "source": [
    "Answer:"
   ]
  },
  {
   "cell_type": "markdown",
   "metadata": {},
   "source": [
    "### 2 Bias and unfairness in Interleaving experiments [10 points]\n",
    "Balance interleaving has been shown to be biased in a number of corner cases. An example was given during the lecture with two ranked lists of length 3 being interleaved, and a randomly clicking population of users that resulted in algorithm A winning ⅔ of the time, even though in theory the percentage of wins should be 50% for both algorithms. Can you come up with a situation of two ranked lists of length 3 and a distribution of clicks over them for which Team-draft interleaving is unfair to the better algorithm?\n"
   ]
  },
  {
   "cell_type": "markdown",
   "metadata": {},
   "source": [
    "Answer:"
   ]
  },
  {
   "cell_type": "markdown",
   "metadata": {},
   "source": [
    "## Experimental part [85 pts] \n",
    "Step 1: Simulate Rankings of Relevance for E and P (5 points)\n",
    "In the first step you will generate pairs of rankings of relevance, for the production P and experimental E, respectively, for a hypothetical query q. Assume a 3-graded relevance, i.e. {N, R, HR}. Construct all possible P and E ranking pairs of length 5. This step should give you about.\n",
    "\n",
    "Example:\n",
    "P: {N N N N N}\n",
    "E: {N N N N R}\n",
    "…\n",
    "P: {HR HR HR HR R}\n",
    "E: {HR HR HR HR HR}\n"
   ]
  },
  {
   "cell_type": "code",
   "execution_count": 12,
   "metadata": {},
   "outputs": [
    {
     "name": "stdout",
     "output_type": "stream",
     "text": [
      "59049 simulations in total.\n",
      "\n",
      "First 10 simulations:\n",
      "\n",
      "P: ('N', 'N', 'N', 'N', 'N'), E: ('N', 'N', 'N', 'N', 'N')\n",
      "P: ('N', 'N', 'N', 'N', 'N'), E: ('N', 'N', 'N', 'N', 'R')\n",
      "P: ('N', 'N', 'N', 'N', 'N'), E: ('N', 'N', 'N', 'N', 'HR')\n",
      "P: ('N', 'N', 'N', 'N', 'N'), E: ('N', 'N', 'N', 'R', 'N')\n",
      "P: ('N', 'N', 'N', 'N', 'N'), E: ('N', 'N', 'N', 'R', 'R')\n",
      "P: ('N', 'N', 'N', 'N', 'N'), E: ('N', 'N', 'N', 'R', 'HR')\n",
      "P: ('N', 'N', 'N', 'N', 'N'), E: ('N', 'N', 'N', 'HR', 'N')\n",
      "P: ('N', 'N', 'N', 'N', 'N'), E: ('N', 'N', 'N', 'HR', 'R')\n",
      "P: ('N', 'N', 'N', 'N', 'N'), E: ('N', 'N', 'N', 'HR', 'HR')\n",
      "P: ('N', 'N', 'N', 'N', 'N'), E: ('N', 'N', 'R', 'N', 'N')\n",
      "\n",
      "Last 10 simulations:\n",
      "\n",
      "P: ('N', 'N', 'N', 'N', 'N'), E: ('N', 'N', 'R', 'N', 'N')\n",
      "P: ('N', 'N', 'N', 'N', 'N'), E: ('N', 'N', 'R', 'N', 'N')\n",
      "P: ('N', 'N', 'N', 'N', 'N'), E: ('N', 'N', 'R', 'N', 'N')\n",
      "P: ('N', 'N', 'N', 'N', 'N'), E: ('N', 'N', 'R', 'N', 'N')\n",
      "P: ('N', 'N', 'N', 'N', 'N'), E: ('N', 'N', 'R', 'N', 'N')\n",
      "P: ('N', 'N', 'N', 'N', 'N'), E: ('N', 'N', 'R', 'N', 'N')\n",
      "P: ('N', 'N', 'N', 'N', 'N'), E: ('N', 'N', 'R', 'N', 'N')\n",
      "P: ('N', 'N', 'N', 'N', 'N'), E: ('N', 'N', 'R', 'N', 'N')\n",
      "P: ('N', 'N', 'N', 'N', 'N'), E: ('N', 'N', 'R', 'N', 'N')\n",
      "P: ('N', 'N', 'N', 'N', 'N'), E: ('N', 'N', 'R', 'N', 'N')\n"
     ]
    }
   ],
   "source": [
    "# Step 1 code\n",
    "\n",
    "from itertools import product\n",
    "from collections import namedtuple\n",
    "\n",
    "RankingPair = namedtuple(\"RankingPair\", [\"E\", \"P\"])\n",
    "\n",
    "RANKINGS = (\"N\", \"R\", \"HR\")\n",
    "\n",
    "simulations = []\n",
    "\n",
    "# Create all possible rankings of length 5\n",
    "for ranking_pair in list(product(list(product(RANKINGS, repeat=5)), repeat=2)):\n",
    "    simulations.append(RankingPair(*ranking_pair))\n",
    "\n",
    "print(\"{} simulations in total.\\n\".format(len(simulations)))\n",
    "    \n",
    "print(\"First 10 simulations:\\n\")\n",
    "for ranking_pair in simulations[:10]:\n",
    "    print(\"P: {}, E: {}\".format(*ranking_pair))\n",
    "    \n",
    "print(\"\\nLast 10 simulations:\\n\")\n",
    "for P_ranking, E_ranking in simulations[-10:]:\n",
    "    print(\"P: {}, E: {}\".format(*ranking_pair))\n"
   ]
  },
  {
   "cell_type": "code",
   "execution_count": null,
   "metadata": {
    "collapsed": true
   },
   "outputs": [],
   "source": []
  },
  {
   "cell_type": "code",
   "execution_count": null,
   "metadata": {
    "collapsed": true
   },
   "outputs": [],
   "source": []
  }
 ],
 "metadata": {
  "kernelspec": {
   "display_name": "Python 3",
   "language": "python",
   "name": "python3"
  },
  "language_info": {
   "codemirror_mode": {
    "name": "ipython",
    "version": 3
   },
   "file_extension": ".py",
   "mimetype": "text/x-python",
   "name": "python",
   "nbconvert_exporter": "python",
   "pygments_lexer": "ipython3",
   "version": "3.6.1"
  }
 },
 "nbformat": 4,
 "nbformat_minor": 2
}
